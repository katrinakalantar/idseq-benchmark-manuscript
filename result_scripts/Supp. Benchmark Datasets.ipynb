{
 "cells": [
  {
   "cell_type": "markdown",
   "metadata": {},
   "source": [
    "#### Generate metrics for IDseq Internal Benchmarks \n",
    "\n",
    "Datasets of common clinical microbes and closely-related bacterial species (CCM and CRB) for the idseq-benchmark-manuscript **Supplemental Analysis**."
   ]
  },
  {
   "cell_type": "code",
   "execution_count": 1,
   "metadata": {
    "scrolled": true
   },
   "outputs": [
    {
     "name": "stderr",
     "output_type": "stream",
     "text": [
      "Downloading taxdump.tar.gz from NCBI FTP site (via HTTP)...\n",
      "Done. Parsing...\n"
     ]
    },
    {
     "name": "stdout",
     "output_type": "stream",
     "text": [
      "Loading node names...\n",
      "2188555 names loaded.\n",
      "212927 synonyms loaded.\n",
      "Loading nodes...\n",
      "2188555 nodes loaded.\n",
      "Linking nodes...\n",
      "Tree is loaded.\n",
      "Updating database: /Users/katrina.kalantar/.etetoolkit/taxa.sqlite ...\n",
      " 2188000 generating entries... \n",
      "Uploading to /Users/katrina.kalantar/.etetoolkit/taxa.sqlite\n"
     ]
    },
    {
     "name": "stderr",
     "output_type": "stream",
     "text": [
      "Inserting synonyms:      25000 "
     ]
    },
    {
     "name": "stdout",
     "output_type": "stream",
     "text": [
      "\n"
     ]
    },
    {
     "name": "stderr",
     "output_type": "stream",
     "text": [
      "Inserting taxids:           0   "
     ]
    },
    {
     "name": "stdout",
     "output_type": "stream",
     "text": [
      "\n",
      "\n"
     ]
    },
    {
     "name": "stderr",
     "output_type": "stream",
     "text": [
      "Inserting taxids:       2185000 "
     ]
    },
    {
     "name": "stdout",
     "output_type": "stream",
     "text": [
      "\n"
     ]
    }
   ],
   "source": [
    "import pandas as pd\n",
    "import matplotlib.pyplot as plt\n",
    "import subprocess\n",
    "import json\n",
    "from collections import Counter\n",
    "\n",
    "from ete3 import NCBITaxa\n",
    "ncbi = NCBITaxa()\n",
    "ncbi.update_taxonomy_database()\n",
    "\n",
    "%matplotlib inline"
   ]
  },
  {
   "cell_type": "code",
   "execution_count": 2,
   "metadata": {},
   "outputs": [],
   "source": [
    "PROJECT = '739'\n",
    "VERSION = '3.13'\n",
    "\n",
    "SAMPLE_DICT = {\n",
    "    '34444':'norg_10__nacc_34__uniform_weight_per_organism__hiseq_reads__v9irreproducible_',\n",
    "    '34443':'norg_13__nacc_35__uniform_weight_per_organism__hiseq_reads__v10_',\n",
    "    '34442':'NegControl_LM'    \n",
    "}"
   ]
  },
  {
   "cell_type": "code",
   "execution_count": 3,
   "metadata": {},
   "outputs": [
    {
     "name": "stdout",
     "output_type": "stream",
     "text": [
      "idseq-bench-score 739 34444 3.13\n"
     ]
    }
   ],
   "source": [
    "command = \"idseq-bench-score \"+ PROJECT + \" \" + '34444' + \" \" + VERSION\n",
    "print(command)\n",
    "bench_result = subprocess.check_output(command, shell=True)\n",
    "d = json.loads(''.join(bench_result.decode('utf-8').split('\\n')[6:]))"
   ]
  },
  {
   "cell_type": "markdown",
   "metadata": {},
   "source": [
    "### Load Kraken results"
   ]
  },
  {
   "cell_type": "code",
   "execution_count": 4,
   "metadata": {},
   "outputs": [],
   "source": [
    "kraken_result = pd.read_csv('./data/kraken2/common_microbes/' + SAMPLE_DICT['34444'] + '.kraken2.out', sep='\\t', header=None)\n"
   ]
  },
  {
   "cell_type": "code",
   "execution_count": 5,
   "metadata": {},
   "outputs": [
    {
     "data": {
      "text/html": [
       "<div>\n",
       "<style scoped>\n",
       "    .dataframe tbody tr th:only-of-type {\n",
       "        vertical-align: middle;\n",
       "    }\n",
       "\n",
       "    .dataframe tbody tr th {\n",
       "        vertical-align: top;\n",
       "    }\n",
       "\n",
       "    .dataframe thead th {\n",
       "        text-align: right;\n",
       "    }\n",
       "</style>\n",
       "<table border=\"1\" class=\"dataframe\">\n",
       "  <thead>\n",
       "    <tr style=\"text-align: right;\">\n",
       "      <th></th>\n",
       "      <th>0</th>\n",
       "      <th>1</th>\n",
       "      <th>2</th>\n",
       "      <th>3</th>\n",
       "      <th>4</th>\n",
       "      <th>true_sp</th>\n",
       "      <th>species_res</th>\n",
       "      <th>match</th>\n",
       "    </tr>\n",
       "  </thead>\n",
       "  <tbody>\n",
       "    <tr>\n",
       "      <th>0</th>\n",
       "      <td>C</td>\n",
       "      <td>NC_003198.1_0_0__benchmark_lineage_220341_2890...</td>\n",
       "      <td>28901</td>\n",
       "      <td>126|126</td>\n",
       "      <td>1:4 91347:5 1:59 543:7 1:3 590:14 |:| 590:27 2...</td>\n",
       "      <td>28901</td>\n",
       "      <td>28901</td>\n",
       "      <td>True</td>\n",
       "    </tr>\n",
       "    <tr>\n",
       "      <th>1</th>\n",
       "      <td>C</td>\n",
       "      <td>NC_003198.1_1_0__benchmark_lineage_220341_2890...</td>\n",
       "      <td>59201</td>\n",
       "      <td>126|126</td>\n",
       "      <td>590:9 543:5 590:13 131567:2 590:23 543:2 590:7...</td>\n",
       "      <td>28901</td>\n",
       "      <td>28901</td>\n",
       "      <td>True</td>\n",
       "    </tr>\n",
       "    <tr>\n",
       "      <th>2</th>\n",
       "      <td>C</td>\n",
       "      <td>NC_003198.1_2_0__benchmark_lineage_220341_2890...</td>\n",
       "      <td>590</td>\n",
       "      <td>126|126</td>\n",
       "      <td>590:48 543:5 590:39 |:| 590:59 0:4 543:5 0:7 5...</td>\n",
       "      <td>28901</td>\n",
       "      <td>0</td>\n",
       "      <td>False</td>\n",
       "    </tr>\n",
       "    <tr>\n",
       "      <th>3</th>\n",
       "      <td>C</td>\n",
       "      <td>NC_003198.1_3_0__benchmark_lineage_220341_2890...</td>\n",
       "      <td>590</td>\n",
       "      <td>126|126</td>\n",
       "      <td>590:5 0:32 590:35 543:5 590:15 |:| 590:92</td>\n",
       "      <td>28901</td>\n",
       "      <td>0</td>\n",
       "      <td>False</td>\n",
       "    </tr>\n",
       "    <tr>\n",
       "      <th>4</th>\n",
       "      <td>C</td>\n",
       "      <td>NC_003198.1_4_0__benchmark_lineage_220341_2890...</td>\n",
       "      <td>90370</td>\n",
       "      <td>126|126</td>\n",
       "      <td>590:2 28901:3 590:5 28901:11 590:29 90370:25 1...</td>\n",
       "      <td>28901</td>\n",
       "      <td>0</td>\n",
       "      <td>False</td>\n",
       "    </tr>\n",
       "  </tbody>\n",
       "</table>\n",
       "</div>"
      ],
      "text/plain": [
       "   0                                                  1      2        3  \\\n",
       "0  C  NC_003198.1_0_0__benchmark_lineage_220341_2890...  28901  126|126   \n",
       "1  C  NC_003198.1_1_0__benchmark_lineage_220341_2890...  59201  126|126   \n",
       "2  C  NC_003198.1_2_0__benchmark_lineage_220341_2890...    590  126|126   \n",
       "3  C  NC_003198.1_3_0__benchmark_lineage_220341_2890...    590  126|126   \n",
       "4  C  NC_003198.1_4_0__benchmark_lineage_220341_2890...  90370  126|126   \n",
       "\n",
       "                                                   4 true_sp  species_res  \\\n",
       "0  1:4 91347:5 1:59 543:7 1:3 590:14 |:| 590:27 2...   28901        28901   \n",
       "1  590:9 543:5 590:13 131567:2 590:23 543:2 590:7...   28901        28901   \n",
       "2  590:48 543:5 590:39 |:| 590:59 0:4 543:5 0:7 5...   28901            0   \n",
       "3          590:5 0:32 590:35 543:5 590:15 |:| 590:92   28901            0   \n",
       "4  590:2 28901:3 590:5 28901:11 590:29 90370:25 1...   28901            0   \n",
       "\n",
       "   match  \n",
       "0   True  \n",
       "1   True  \n",
       "2  False  \n",
       "3  False  \n",
       "4  False  "
      ]
     },
     "execution_count": 5,
     "metadata": {},
     "output_type": "execute_result"
    }
   ],
   "source": [
    "kraken_truth = [i.split('.')[1].split('_')[7] for i in kraken_result[1]]\n",
    "kraken_result['true_sp'] = kraken_truth\n",
    "\n",
    "# WALK BACK FROM SUBSPECIES\n",
    "species_values = list(set(kraken_result[2]))\n",
    "taxid2name = ncbi.get_rank(species_values)\n",
    "final_species_calls = {}\n",
    "final_species_calls[0] = 0\n",
    "for i in taxid2name:\n",
    "    sp = 0\n",
    "    if taxid2name[i] == 'subspecies':\n",
    "        lin = ncbi.get_lineage(i)\n",
    "        sp = lin[-2]\n",
    "    elif taxid2name[i] == 'species':\n",
    "        sp = i\n",
    "    final_species_calls[i] = sp\n",
    "kraken_result['species_res'] = [final_species_calls[i] for i in kraken_result[2]]\n",
    "\n",
    "kraken_result_match = [str(kraken_result.loc[i]['true_sp']) == str(kraken_result.loc[i]['species_res']) for i in range(len(kraken_result.index))]\n",
    "kraken_result['match'] = kraken_result_match\n",
    "\n",
    "kraken_result.head()"
   ]
  },
  {
   "cell_type": "code",
   "execution_count": 6,
   "metadata": {},
   "outputs": [
    {
     "name": "stdout",
     "output_type": "stream",
     "text": [
      "28901\n",
      "548\n",
      "550\n",
      "571\n",
      "573\n",
      "546\n",
      "545\n",
      "562\n",
      "623\n",
      "621\n"
     ]
    }
   ],
   "source": [
    "sp_truth = Counter(kraken_result['true_sp'])\n",
    "\n",
    "kraken_result['res'] = [str(i) for i in kraken_result[2]]\n",
    "\n",
    "species_correct = {}\n",
    "for sp in sp_truth.keys():\n",
    "    print(sp)\n",
    "    this_sp = kraken_result[kraken_result['true_sp'] == sp]\n",
    "    species_correct[sp] = this_sp[this_sp['res'] == sp].shape[0] / this_sp.shape[0]\n",
    "    \n",
    "kraken_species_results = pd.Series(species_correct)"
   ]
  },
  {
   "cell_type": "code",
   "execution_count": 7,
   "metadata": {},
   "outputs": [
    {
     "name": "stdout",
     "output_type": "stream",
     "text": [
      "(167,)\n",
      "0.006481814908174289\n"
     ]
    }
   ],
   "source": [
    "ser = pd.Series(Counter(kraken_result['species_res']))\n",
    "unexpected_sp = [i for i in list(set(kraken_result['species_res'])) if str(i) not in list(set(kraken_result['true_sp'])) + ['0']]\n",
    "print(ser.shape)\n",
    "print(ser.loc[unexpected_sp].sum() / kraken_result.shape[0])"
   ]
  },
  {
   "cell_type": "code",
   "execution_count": 8,
   "metadata": {},
   "outputs": [
    {
     "name": "stdout",
     "output_type": "stream",
     "text": [
      "Percentage of Kraken reads that were mapped to something above species level:\n"
     ]
    },
    {
     "data": {
      "text/plain": [
       "0.7092785980074421"
      ]
     },
     "execution_count": 8,
     "metadata": {},
     "output_type": "execute_result"
    }
   ],
   "source": [
    "print(\"Percentage of Kraken reads that were mapped to something above species level:\")\n",
    "Counter(kraken_result['species_res'])[0] / kraken_result.shape[0]"
   ]
  },
  {
   "cell_type": "code",
   "execution_count": 9,
   "metadata": {},
   "outputs": [
    {
     "name": "stdout",
     "output_type": "stream",
     "text": [
      "167\n"
     ]
    }
   ],
   "source": [
    "kraken_false_pos_species_count = (len([i for i in list(set(kraken_result['species_res'])) if i not in list(set(kraken_result['true_sp'])) + ['0']]))\n",
    "print(kraken_false_pos_species_count )"
   ]
  },
  {
   "cell_type": "markdown",
   "metadata": {},
   "source": [
    "### IDseq Recall "
   ]
  },
  {
   "cell_type": "code",
   "execution_count": 10,
   "metadata": {},
   "outputs": [],
   "source": [
    "output = {'NT':{}, 'NR':{}}\n",
    "incorrectly_assigned_reads = {'NT':{}, 'NR':{}}\n",
    "output_false_pos_species_count = {}\n",
    "\n",
    "res_nt = d['per_rank']['species']['NT']\n",
    "for i in res_nt:\n",
    "    try:\n",
    "        output['NT'][i] = res_nt[i]['recall_per_read']['value']\n",
    "    except:\n",
    "        continue\n",
    "    try:\n",
    "        incorrectly_assigned_reads['NT'][i] = res_nt[i]['post_qc_reads'] - res_nt[i]['recall_per_read']['count']\n",
    "    except:\n",
    "        continue\n",
    "        \n",
    "res_nr = d['per_rank']['species']['NR']\n",
    "for i in res_nt:\n",
    "    try:\n",
    "        output['NR'][i] = res_nr[i]['recall_per_read']['value']\n",
    "    except:\n",
    "        continue\n",
    "    try:\n",
    "        incorrectly_assigned_reads['NR'][i] = res_nr[i]['post_qc_reads'] - res_nr[i]['recall_per_read']['count']\n",
    "    except:\n",
    "        continue\n",
    "        \n",
    "idseq_species_results = pd.DataFrame(output)#.plot(kind='bar', width=.75)\n",
    "incorrectly_assigned_reads_results = pd.DataFrame(incorrectly_assigned_reads)"
   ]
  },
  {
   "cell_type": "code",
   "execution_count": 11,
   "metadata": {},
   "outputs": [
    {
     "name": "stdout",
     "output_type": "stream",
     "text": [
      "Percentage of READS which are misclassified at the species level:\n"
     ]
    },
    {
     "data": {
      "text/plain": [
       "NT    0.31776\n",
       "NR    0.49709\n",
       "dtype: float64"
      ]
     },
     "execution_count": 11,
     "metadata": {},
     "output_type": "execute_result"
    }
   ],
   "source": [
    "print(\"Percentage of READS which are misclassified at the species level:\")\n",
    "incorrectly_assigned_reads_results.sum() / (d['per_rank']['species']['NT']['total_correctly_identified_taxa']*10000)"
   ]
  },
  {
   "cell_type": "code",
   "execution_count": 12,
   "metadata": {},
   "outputs": [
    {
     "name": "stdout",
     "output_type": "stream",
     "text": [
      "These reads are distributed across a total of N false-positive species-level microbes:\n",
      "NT: 83\n",
      "NR: 371\n"
     ]
    }
   ],
   "source": [
    "print(\"These reads are distributed across a total of N false-positive species-level microbes:\")\n",
    "idseq_NT_false_positive_species_count = (d['per_rank']['species']['NT']['total_identified_taxa'] - d['per_rank']['species']['NT']['total_correctly_identified_taxa'])\n",
    "print(\"NT: \" + str(idseq_NT_false_positive_species_count))\n",
    "idseq_NR_false_positive_species_count = (d['per_rank']['species']['NR']['total_identified_taxa'] - d['per_rank']['species']['NR']['total_correctly_identified_taxa'])\n",
    "print(\"NR: \" + str(idseq_NR_false_positive_species_count))"
   ]
  },
  {
   "cell_type": "code",
   "execution_count": 13,
   "metadata": {},
   "outputs": [
    {
     "name": "stdout",
     "output_type": "stream",
     "text": [
      "{545: 'Citrobacter koseri', 546: 'Citrobacter freundii', 548: 'Klebsiella aerogenes', 550: 'Enterobacter cloacae', 562: 'Escherichia coli', 571: 'Klebsiella oxytoca', 573: 'Klebsiella pneumoniae', 621: 'Shigella boydii', 623: 'Shigella flexneri', 28901: 'Salmonella enterica'}\n"
     ]
    },
    {
     "data": {
      "text/plain": [
       "<matplotlib.axes._subplots.AxesSubplot at 0x7ff1d21a21d0>"
      ]
     },
     "execution_count": 13,
     "metadata": {},
     "output_type": "execute_result"
    },
    {
     "data": {
      "image/png": "[encoded data removed]",
      "text/plain": [
       "<Figure size 576x288 with 1 Axes>"
      ]
     },
     "metadata": {
      "needs_background": "light"
     },
     "output_type": "display_data"
    }
   ],
   "source": [
    "combined_results = pd.concat([idseq_species_results, pd.Series(species_correct).loc[idseq_species_results.index]], axis=1)\n",
    "combined_results.columns = ['IDseq NT', 'IDseq NR', 'Kraken2']\n",
    "names = ncbi.get_taxid_translator(list(combined_results.index))\n",
    "print(names)\n",
    "new_names = [names[int(i)] for i in combined_results.index]\n",
    "combined_results.index = new_names\n",
    "\n",
    "combined_results.plot(kind='bar', width=.7, figsize=(8,4), color=['#94C98B','#F6CEA5','#DD3A83'])"
   ]
  },
  {
   "cell_type": "code",
   "execution_count": 14,
   "metadata": {},
   "outputs": [
    {
     "name": "stdout",
     "output_type": "stream",
     "text": [
      "        IDseq NT   IDseq NR    Kraken2\n",
      "count  10.000000  10.000000  10.000000\n",
      "mean    0.623716   0.411078   0.266021\n",
      "std     0.249476   0.281814   0.276757\n",
      "min     0.223752   0.043432   0.002200\n",
      "25%     0.427760   0.148882   0.105911\n",
      "50%     0.677980   0.461238   0.179137\n",
      "75%     0.799727   0.608323   0.354025\n",
      "max     0.958531   0.840541   0.937000\n",
      "0.6779795408002242\n",
      "IDseq NT, median = 0.6779795408002242, IQR: 0.4277597972630099 - 0.7997268442747166\n",
      "IDseq NR, median = 0.461237944821416, IQR: 0.14888232355962377 - 0.6083234386739829\n",
      "Kraken2, median = 0.1791371794871795, IQR: 0.10591134453781513 - 0.354025150060024\n",
      "is NT significantly different than Kraken2?\n",
      "WilcoxonResult(statistic=0.0, pvalue=0.005062032126267864)\n",
      "is NR significantly different than Kraken2?\n",
      "WilcoxonResult(statistic=17.0, pvalue=0.2845026979112075)\n",
      "is NT significantly different than NR?\n",
      "WilcoxonResult(statistic=0.0, pvalue=0.005062032126267864)\n"
     ]
    }
   ],
   "source": [
    "results_described = combined_results.describe()\n",
    "print(results_described)\n",
    "print(results_described.loc['50%']['IDseq NT'])\n",
    "print(\"IDseq NT, median = \" + str(results_described.loc['50%']['IDseq NT']) + \", IQR: \" + \n",
    "     str(results_described.loc['25%']['IDseq NT']) + \" - \" + \n",
    "      str(results_described.loc['75%']['IDseq NT']))\n",
    "\n",
    "print(\"IDseq NR, median = \" + str(results_described.loc['50%']['IDseq NR']) + \", IQR: \" + \n",
    "     str(results_described.loc['25%']['IDseq NR']) + \" - \" + \n",
    "      str(results_described.loc['75%']['IDseq NR']))\n",
    "\n",
    "print(\"Kraken2, median = \" + str(results_described.loc['50%']['Kraken2']) + \", IQR: \" + \n",
    "     str(results_described.loc['25%']['Kraken2']) + \" - \" + \n",
    "      str(results_described.loc['75%']['Kraken2']))\n",
    "\n",
    "import scipy\n",
    "from scipy import stats\n",
    "print(\"is NT significantly different than Kraken2?\")\n",
    "print(scipy.stats.wilcoxon(combined_results['IDseq NT'],combined_results['Kraken2']))\n",
    "\n",
    "print(\"is NR significantly different than Kraken2?\")\n",
    "print(scipy.stats.wilcoxon(combined_results['IDseq NR'],combined_results['Kraken2']))\n",
    "\n",
    "print(\"is NT significantly different than NR?\")\n",
    "print(scipy.stats.wilcoxon(combined_results['IDseq NR'],combined_results['IDseq NT']))\n",
    "\n"
   ]
  }
 ],
 "metadata": {
  "kernelspec": {
   "display_name": "Python 3",
   "language": "python",
   "name": "python3"
  },
  "language_info": {
   "codemirror_mode": {
    "name": "ipython",
    "version": 3
   },
   "file_extension": ".py",
   "mimetype": "text/x-python",
   "name": "python",
   "nbconvert_exporter": "python",
   "pygments_lexer": "ipython3",
   "version": "3.7.3"
  }
 },
 "nbformat": 4,
 "nbformat_minor": 2
}
