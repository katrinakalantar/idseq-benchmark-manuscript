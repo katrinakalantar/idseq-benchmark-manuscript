{
 "cells": [
  {
   "cell_type": "markdown",
   "metadata": {},
   "source": [
    "#### Generate metrics for IDseq Internal Benchmarks \n",
    "\n",
    "Datasets of common clinical microbes and closely-related bacterial species (CCM and CRB) for the idseq-benchmark-manuscript **Supplemental Analysis**."
   ]
  },
  {
   "cell_type": "code",
   "execution_count": 74,
   "metadata": {
    "scrolled": true
   },
   "outputs": [
    {
     "name": "stderr",
     "output_type": "stream",
     "text": [
      "Downloading taxdump.tar.gz from NCBI FTP site (via HTTP)...\n",
      "Done. Parsing...\n"
     ]
    },
    {
     "name": "stdout",
     "output_type": "stream",
     "text": [
      "Loading node names...\n",
      "2238846 names loaded.\n",
      "216849 synonyms loaded.\n",
      "Loading nodes...\n",
      "2238846 nodes loaded.\n",
      "Linking nodes...\n",
      "Tree is loaded.\n",
      "Updating database: /Users/katrina.kalantar/.etetoolkit/taxa.sqlite ...\n",
      " 2238000 generating entries...  \n",
      "Uploading to /Users/katrina.kalantar/.etetoolkit/taxa.sqlite\n"
     ]
    },
    {
     "name": "stderr",
     "output_type": "stream",
     "text": [
      "Inserting synonyms:      30000 "
     ]
    },
    {
     "name": "stdout",
     "output_type": "stream",
     "text": [
      "\n"
     ]
    },
    {
     "name": "stderr",
     "output_type": "stream",
     "text": [
      "Inserting taxids:           0   "
     ]
    },
    {
     "name": "stdout",
     "output_type": "stream",
     "text": [
      "\n",
      "\n"
     ]
    },
    {
     "name": "stderr",
     "output_type": "stream",
     "text": [
      "Inserting taxids:       2235000 "
     ]
    },
    {
     "name": "stdout",
     "output_type": "stream",
     "text": [
      "\n"
     ]
    }
   ],
   "source": [
    "import pandas as pd\n",
    "import matplotlib.pyplot as plt\n",
    "import subprocess\n",
    "import json\n",
    "from collections import Counter\n",
    "\n",
    "from ete3 import NCBITaxa\n",
    "ncbi = NCBITaxa()\n",
    "ncbi.update_taxonomy_database()\n",
    "\n",
    "%matplotlib inline"
   ]
  },
  {
   "cell_type": "code",
   "execution_count": 107,
   "metadata": {},
   "outputs": [],
   "source": [
    "PROJECT = '739'\n",
    "VERSION = '3.13'\n",
    "\n",
    "SAMPLE_DICT = {\n",
    "    '34444':'norg_10__nacc_34__uniform_weight_per_organism__hiseq_reads__v9irreproducible_',\n",
    "    '34443':'norg_13__nacc_35__uniform_weight_per_organism__hiseq_reads__v10_',\n",
    "    '34442':'NegControl_LM'    \n",
    "}\n",
    "\n",
    "sample_id = '34443'\n",
    "\n",
    "# 34444 = CRB - Closely Related Bacteria\n",
    "# 34443 = CCM - Common Clinical Microbes"
   ]
  },
  {
   "cell_type": "code",
   "execution_count": 108,
   "metadata": {},
   "outputs": [
    {
     "name": "stdout",
     "output_type": "stream",
     "text": [
      "idseq-bench-score 739 34443 3.13\n"
     ]
    }
   ],
   "source": [
    "command = \"idseq-bench-score \"+ PROJECT + \" \" + sample_id + \" \" + VERSION\n",
    "print(command)\n",
    "bench_result = subprocess.check_output(command, shell=True)\n",
    "d = json.loads(''.join(bench_result.decode('utf-8').split('\\n')[6:]))\n",
    "\n"
   ]
  },
  {
   "cell_type": "markdown",
   "metadata": {},
   "source": [
    "### Load Kraken results"
   ]
  },
  {
   "cell_type": "code",
   "execution_count": 109,
   "metadata": {},
   "outputs": [],
   "source": [
    "kraken_result = pd.read_csv('./data/kraken2/common_microbes/' + SAMPLE_DICT[sample_id] + '.kraken2.out', sep='\\t', header=None)\n"
   ]
  },
  {
   "cell_type": "code",
   "execution_count": 110,
   "metadata": {},
   "outputs": [
    {
     "data": {
      "text/html": [
       "<div>\n",
       "<style scoped>\n",
       "    .dataframe tbody tr th:only-of-type {\n",
       "        vertical-align: middle;\n",
       "    }\n",
       "\n",
       "    .dataframe tbody tr th {\n",
       "        vertical-align: top;\n",
       "    }\n",
       "\n",
       "    .dataframe thead th {\n",
       "        text-align: right;\n",
       "    }\n",
       "</style>\n",
       "<table border=\"1\" class=\"dataframe\">\n",
       "  <thead>\n",
       "    <tr style=\"text-align: right;\">\n",
       "      <th></th>\n",
       "      <th>0</th>\n",
       "      <th>1</th>\n",
       "      <th>2</th>\n",
       "      <th>3</th>\n",
       "      <th>4</th>\n",
       "    </tr>\n",
       "  </thead>\n",
       "  <tbody>\n",
       "    <tr>\n",
       "      <th>0</th>\n",
       "      <td>C</td>\n",
       "      <td>NC_016845.1_0_0__benchmark_lineage_1125630_573...</td>\n",
       "      <td>570</td>\n",
       "      <td>126|126</td>\n",
       "      <td>543:78 570:5 543:3 570:1 543:1 570:4 |:| 1:15 ...</td>\n",
       "    </tr>\n",
       "    <tr>\n",
       "      <th>1</th>\n",
       "      <td>C</td>\n",
       "      <td>NC_016845.1_1_0__benchmark_lineage_1125630_573...</td>\n",
       "      <td>543</td>\n",
       "      <td>126|126</td>\n",
       "      <td>543:92 |:| 543:86 91347:6</td>\n",
       "    </tr>\n",
       "    <tr>\n",
       "      <th>2</th>\n",
       "      <td>C</td>\n",
       "      <td>NC_016845.1_2_0__benchmark_lineage_1125630_573...</td>\n",
       "      <td>543</td>\n",
       "      <td>126|126</td>\n",
       "      <td>543:92 |:| 543:85 91347:7</td>\n",
       "    </tr>\n",
       "    <tr>\n",
       "      <th>3</th>\n",
       "      <td>C</td>\n",
       "      <td>NC_016845.1_3_0__benchmark_lineage_1125630_573...</td>\n",
       "      <td>573</td>\n",
       "      <td>126|126</td>\n",
       "      <td>543:41 1224:5 543:5 573:11 543:5 573:17 543:8 ...</td>\n",
       "    </tr>\n",
       "    <tr>\n",
       "      <th>4</th>\n",
       "      <td>C</td>\n",
       "      <td>NC_016845.1_4_0__benchmark_lineage_1125630_573...</td>\n",
       "      <td>570</td>\n",
       "      <td>126|126</td>\n",
       "      <td>543:1 570:24 543:2 570:5 543:60 |:| 543:66 570...</td>\n",
       "    </tr>\n",
       "  </tbody>\n",
       "</table>\n",
       "</div>"
      ],
      "text/plain": [
       "   0                                                  1    2        3  \\\n",
       "0  C  NC_016845.1_0_0__benchmark_lineage_1125630_573...  570  126|126   \n",
       "1  C  NC_016845.1_1_0__benchmark_lineage_1125630_573...  543  126|126   \n",
       "2  C  NC_016845.1_2_0__benchmark_lineage_1125630_573...  543  126|126   \n",
       "3  C  NC_016845.1_3_0__benchmark_lineage_1125630_573...  573  126|126   \n",
       "4  C  NC_016845.1_4_0__benchmark_lineage_1125630_573...  570  126|126   \n",
       "\n",
       "                                                   4  \n",
       "0  543:78 570:5 543:3 570:1 543:1 570:4 |:| 1:15 ...  \n",
       "1                          543:92 |:| 543:86 91347:6  \n",
       "2                          543:92 |:| 543:85 91347:7  \n",
       "3  543:41 1224:5 543:5 573:11 543:5 573:17 543:8 ...  \n",
       "4  543:1 570:24 543:2 570:5 543:60 |:| 543:66 570...  "
      ]
     },
     "execution_count": 110,
     "metadata": {},
     "output_type": "execute_result"
    }
   ],
   "source": [
    "kraken_result.head()\n",
    "\n"
   ]
  },
  {
   "cell_type": "code",
   "execution_count": 111,
   "metadata": {},
   "outputs": [
    {
     "data": {
      "text/html": [
       "<div>\n",
       "<style scoped>\n",
       "    .dataframe tbody tr th:only-of-type {\n",
       "        vertical-align: middle;\n",
       "    }\n",
       "\n",
       "    .dataframe tbody tr th {\n",
       "        vertical-align: top;\n",
       "    }\n",
       "\n",
       "    .dataframe thead th {\n",
       "        text-align: right;\n",
       "    }\n",
       "</style>\n",
       "<table border=\"1\" class=\"dataframe\">\n",
       "  <thead>\n",
       "    <tr style=\"text-align: right;\">\n",
       "      <th></th>\n",
       "      <th>0</th>\n",
       "      <th>1</th>\n",
       "      <th>2</th>\n",
       "      <th>3</th>\n",
       "      <th>4</th>\n",
       "      <th>true_sp</th>\n",
       "      <th>species_res</th>\n",
       "      <th>match</th>\n",
       "    </tr>\n",
       "  </thead>\n",
       "  <tbody>\n",
       "    <tr>\n",
       "      <th>0</th>\n",
       "      <td>C</td>\n",
       "      <td>NC_016845.1_0_0__benchmark_lineage_1125630_573...</td>\n",
       "      <td>570</td>\n",
       "      <td>126|126</td>\n",
       "      <td>543:78 570:5 543:3 570:1 543:1 570:4 |:| 1:15 ...</td>\n",
       "      <td>573</td>\n",
       "      <td>0</td>\n",
       "      <td>False</td>\n",
       "    </tr>\n",
       "    <tr>\n",
       "      <th>1</th>\n",
       "      <td>C</td>\n",
       "      <td>NC_016845.1_1_0__benchmark_lineage_1125630_573...</td>\n",
       "      <td>543</td>\n",
       "      <td>126|126</td>\n",
       "      <td>543:92 |:| 543:86 91347:6</td>\n",
       "      <td>573</td>\n",
       "      <td>0</td>\n",
       "      <td>False</td>\n",
       "    </tr>\n",
       "    <tr>\n",
       "      <th>2</th>\n",
       "      <td>C</td>\n",
       "      <td>NC_016845.1_2_0__benchmark_lineage_1125630_573...</td>\n",
       "      <td>543</td>\n",
       "      <td>126|126</td>\n",
       "      <td>543:92 |:| 543:85 91347:7</td>\n",
       "      <td>573</td>\n",
       "      <td>0</td>\n",
       "      <td>False</td>\n",
       "    </tr>\n",
       "    <tr>\n",
       "      <th>3</th>\n",
       "      <td>C</td>\n",
       "      <td>NC_016845.1_3_0__benchmark_lineage_1125630_573...</td>\n",
       "      <td>573</td>\n",
       "      <td>126|126</td>\n",
       "      <td>543:41 1224:5 543:5 573:11 543:5 573:17 543:8 ...</td>\n",
       "      <td>573</td>\n",
       "      <td>573</td>\n",
       "      <td>True</td>\n",
       "    </tr>\n",
       "    <tr>\n",
       "      <th>4</th>\n",
       "      <td>C</td>\n",
       "      <td>NC_016845.1_4_0__benchmark_lineage_1125630_573...</td>\n",
       "      <td>570</td>\n",
       "      <td>126|126</td>\n",
       "      <td>543:1 570:24 543:2 570:5 543:60 |:| 543:66 570...</td>\n",
       "      <td>573</td>\n",
       "      <td>0</td>\n",
       "      <td>False</td>\n",
       "    </tr>\n",
       "  </tbody>\n",
       "</table>\n",
       "</div>"
      ],
      "text/plain": [
       "   0                                                  1    2        3  \\\n",
       "0  C  NC_016845.1_0_0__benchmark_lineage_1125630_573...  570  126|126   \n",
       "1  C  NC_016845.1_1_0__benchmark_lineage_1125630_573...  543  126|126   \n",
       "2  C  NC_016845.1_2_0__benchmark_lineage_1125630_573...  543  126|126   \n",
       "3  C  NC_016845.1_3_0__benchmark_lineage_1125630_573...  573  126|126   \n",
       "4  C  NC_016845.1_4_0__benchmark_lineage_1125630_573...  570  126|126   \n",
       "\n",
       "                                                   4 true_sp  species_res  \\\n",
       "0  543:78 570:5 543:3 570:1 543:1 570:4 |:| 1:15 ...     573            0   \n",
       "1                          543:92 |:| 543:86 91347:6     573            0   \n",
       "2                          543:92 |:| 543:85 91347:7     573            0   \n",
       "3  543:41 1224:5 543:5 573:11 543:5 573:17 543:8 ...     573          573   \n",
       "4  543:1 570:24 543:2 570:5 543:60 |:| 543:66 570...     573            0   \n",
       "\n",
       "   match  \n",
       "0  False  \n",
       "1  False  \n",
       "2  False  \n",
       "3   True  \n",
       "4  False  "
      ]
     },
     "execution_count": 111,
     "metadata": {},
     "output_type": "execute_result"
    }
   ],
   "source": [
    "kraken_truth = [i.split('.')[1].split('_')[7] for i in kraken_result[1]]\n",
    "kraken_result['true_sp'] = kraken_truth\n",
    "\n",
    "# WALK BACK FROM SUBSPECIES\n",
    "species_values = list(set(kraken_result[2]))\n",
    "\n",
    "# update species values to newest NCBI values\n",
    "# this gets around issues where some taxIDs are no longer in ete3\n",
    "species_values_updated = {}\n",
    "for i in species_values:\n",
    "    try:\n",
    "        # try to look up the taxon name and then get newe taxID from the name\n",
    "        n = ncbi.get_taxid_translator([i])[i]\n",
    "        species_values_updated[i] = (ncbi.get_name_translator([n])[n][0])\n",
    "    except:\n",
    "        species_values_updated[i] = i\n",
    "species_values = species_values_updated.values()\n",
    "\n",
    "# walk back from subspecies to species values, genus remain 0 values\n",
    "taxid2name = ncbi.get_rank(species_values)\n",
    "final_species_calls = {}\n",
    "final_species_calls[0] = 0\n",
    "for i in taxid2name:\n",
    "    sp = 0\n",
    "    if taxid2name[i] == 'subspecies':\n",
    "        lin = ncbi.get_lineage(i)\n",
    "        sp = lin[-2]\n",
    "    elif taxid2name[i] == 'species':\n",
    "        sp = i\n",
    "    final_species_calls[i] = sp\n",
    "# incorporate lookup to the species_values_updated dictionary\n",
    "kraken_result['species_res'] = [final_species_calls[species_values_updated[i]] for i in kraken_result[2]]\n",
    "\n",
    "kraken_result_match = [str(kraken_result.loc[i]['true_sp']) == str(kraken_result.loc[i]['species_res']) for i in range(len(kraken_result.index))]\n",
    "kraken_result['match'] = kraken_result_match\n",
    "\n",
    "kraken_result.head()"
   ]
  },
  {
   "cell_type": "code",
   "execution_count": 112,
   "metadata": {},
   "outputs": [
    {
     "name": "stdout",
     "output_type": "stream",
     "text": [
      "573\n",
      "746128\n",
      "463676\n",
      "37124\n",
      "1280\n",
      "5833\n",
      "66527\n",
      "11041\n",
      "1117645\n",
      "487\n",
      "2065052\n",
      "11676\n",
      "1922926\n"
     ]
    }
   ],
   "source": [
    "sp_truth = Counter(kraken_result['true_sp'])\n",
    "\n",
    "kraken_result['res'] = [str(i) for i in kraken_result[2]]\n",
    "\n",
    "species_correct = {}\n",
    "for sp in sp_truth.keys():\n",
    "    print(sp)\n",
    "    this_sp = kraken_result[kraken_result['true_sp'] == sp]\n",
    "    species_correct[sp] = this_sp[this_sp['res'] == sp].shape[0] / this_sp.shape[0]\n",
    "    \n",
    "kraken_species_results = pd.Series(species_correct)"
   ]
  },
  {
   "cell_type": "code",
   "execution_count": 113,
   "metadata": {},
   "outputs": [
    {
     "name": "stdout",
     "output_type": "stream",
     "text": [
      "(230,)\n",
      "0.0055542734056465886\n"
     ]
    }
   ],
   "source": [
    "ser = pd.Series(Counter(kraken_result['species_res']))\n",
    "unexpected_sp = [i for i in list(set(kraken_result['species_res'])) if str(i) not in list(set(kraken_result['true_sp'])) + ['0']]\n",
    "print(ser.shape)\n",
    "print(ser.loc[unexpected_sp].sum() / kraken_result.shape[0])"
   ]
  },
  {
   "cell_type": "code",
   "execution_count": 114,
   "metadata": {},
   "outputs": [
    {
     "name": "stdout",
     "output_type": "stream",
     "text": [
      "Percentage of Kraken reads that were mapped to something above species level:\n"
     ]
    },
    {
     "data": {
      "text/plain": [
       "0.26495884298792216"
      ]
     },
     "execution_count": 114,
     "metadata": {},
     "output_type": "execute_result"
    }
   ],
   "source": [
    "print(\"Percentage of Kraken reads that were mapped to something above species level:\")\n",
    "Counter(kraken_result['species_res'])[0] / kraken_result.shape[0]"
   ]
  },
  {
   "cell_type": "code",
   "execution_count": 115,
   "metadata": {},
   "outputs": [
    {
     "name": "stdout",
     "output_type": "stream",
     "text": [
      "Kraken False Pos Count: 230\n"
     ]
    }
   ],
   "source": [
    "kraken_false_pos_species_count = (len([i for i in list(set(kraken_result['species_res'])) if i not in list(set(kraken_result['true_sp'])) + ['0']]))\n",
    "print(\"Kraken False Pos Count: \" + str(kraken_false_pos_species_count ))"
   ]
  },
  {
   "cell_type": "markdown",
   "metadata": {},
   "source": [
    "### IDseq Recall "
   ]
  },
  {
   "cell_type": "code",
   "execution_count": 116,
   "metadata": {},
   "outputs": [],
   "source": [
    "output = {'NT':{}, 'NR':{}}\n",
    "incorrectly_assigned_reads = {'NT':{}, 'NR':{}}\n",
    "output_false_pos_species_count = {}\n",
    "\n",
    "res_nt = d['per_rank']['species']['NT']\n",
    "for i in res_nt:\n",
    "    try:\n",
    "        output['NT'][i] = res_nt[i]['recall_per_read']['value']\n",
    "    except:\n",
    "        continue\n",
    "    try:\n",
    "        incorrectly_assigned_reads['NT'][i] = res_nt[i]['post_qc_reads'] - res_nt[i]['recall_per_read']['count']\n",
    "    except:\n",
    "        continue\n",
    "        \n",
    "res_nr = d['per_rank']['species']['NR']\n",
    "for i in res_nt:\n",
    "    try:\n",
    "        output['NR'][i] = res_nr[i]['recall_per_read']['value']\n",
    "    except:\n",
    "        continue\n",
    "    try:\n",
    "        incorrectly_assigned_reads['NR'][i] = res_nr[i]['post_qc_reads'] - res_nr[i]['recall_per_read']['count']\n",
    "    except:\n",
    "        continue\n",
    "        \n",
    "idseq_species_results = pd.DataFrame(output)#.plot(kind='bar', width=.75)\n",
    "incorrectly_assigned_reads_results = pd.DataFrame(incorrectly_assigned_reads)"
   ]
  },
  {
   "cell_type": "code",
   "execution_count": 117,
   "metadata": {},
   "outputs": [
    {
     "name": "stdout",
     "output_type": "stream",
     "text": [
      "Percentage of READS which are misclassified at the species level:\n"
     ]
    },
    {
     "data": {
      "text/plain": [
       "NT    0.032123\n",
       "NR    0.095538\n",
       "dtype: float64"
      ]
     },
     "execution_count": 117,
     "metadata": {},
     "output_type": "execute_result"
    }
   ],
   "source": [
    "print(\"Percentage of READS which are misclassified at the species level:\")\n",
    "incorrectly_assigned_reads_results.sum() / (d['per_rank']['species']['NT']['total_correctly_identified_taxa']*10000)"
   ]
  },
  {
   "cell_type": "code",
   "execution_count": 118,
   "metadata": {},
   "outputs": [
    {
     "name": "stdout",
     "output_type": "stream",
     "text": [
      "These reads are distributed across a total of N false-positive species-level microbes:\n",
      "NT: 63\n",
      "NR: 303\n"
     ]
    }
   ],
   "source": [
    "print(\"These reads are distributed across a total of N false-positive species-level microbes:\")\n",
    "idseq_NT_false_positive_species_count = (d['per_rank']['species']['NT']['total_identified_taxa'] - d['per_rank']['species']['NT']['total_correctly_identified_taxa'])\n",
    "print(\"NT: \" + str(idseq_NT_false_positive_species_count))\n",
    "idseq_NR_false_positive_species_count = (d['per_rank']['species']['NR']['total_identified_taxa'] - d['per_rank']['species']['NR']['total_correctly_identified_taxa'])\n",
    "print(\"NR: \" + str(idseq_NR_false_positive_species_count))"
   ]
  },
  {
   "cell_type": "code",
   "execution_count": 119,
   "metadata": {},
   "outputs": [
    {
     "name": "stdout",
     "output_type": "stream",
     "text": [
      "{487: 'Neisseria meningitidis', 573: 'Klebsiella pneumoniae', 1280: 'Staphylococcus aureus', 5833: 'Plasmodium falciparum', 11041: 'Rubella virus', 11676: 'Human immunodeficiency virus 1', 37124: 'Chikungunya virus', 66527: 'Balamuthia mandrillaris', 463676: 'Rhinovirus C', 746128: 'Aspergillus fumigatus', 1117645: 'Elizabethkingia anophelis', 1922926: 'Hubei mosquito virus 2', 2065052: 'Torque teno midi virus 11'}\n"
     ]
    },
    {
     "data": {
      "image/png": "[encoded data removed]",
      "text/plain": [
       "<Figure size 360x360 with 1 Axes>"
      ]
     },
     "metadata": {
      "needs_background": "light"
     },
     "output_type": "display_data"
    }
   ],
   "source": [
    "combined_results = pd.concat([idseq_species_results, pd.Series(species_correct).loc[idseq_species_results.index]], axis=1)\n",
    "combined_results.columns = ['IDseq NT', 'IDseq NR', 'Kraken2']\n",
    "names = ncbi.get_taxid_translator(list(combined_results.index))\n",
    "print(names)\n",
    "new_names = [names[int(i)] for i in combined_results.index]\n",
    "combined_results.index = new_names\n",
    "\n",
    "combined_results.plot(kind='bar', width=.7, figsize=(5,5), color=['#94C98B','#F6CEA5','#DD3A83'])\n",
    "plt.tight_layout()\n",
    "plt.title('CCM Dataset')\n",
    "plt.savefig(\"S3A.pdf\")"
   ]
  },
  {
   "cell_type": "code",
   "execution_count": 120,
   "metadata": {},
   "outputs": [
    {
     "name": "stdout",
     "output_type": "stream",
     "text": [
      "        IDseq NT   IDseq NR    Kraken2\n",
      "count  13.000000  13.000000  13.000000\n",
      "mean    0.959898   0.875900   0.729249\n",
      "std     0.131080   0.157872   0.334297\n",
      "min     0.524055   0.473245   0.061400\n",
      "25%     0.994160   0.849811   0.635035\n",
      "50%     1.000000   0.869456   0.894000\n",
      "75%     1.000000   1.000000   0.996800\n",
      "max     1.000000   1.000000   1.000000\n",
      "1.0\n",
      "IDseq NT, median = 1.0, IQR: 0.9941597139451728 - 1.0\n",
      "IDseq NR, median = 0.8694563662374821, IQR: 0.8498112317130722 - 1.0\n",
      "Kraken2, median = 0.894, IQR: 0.635035035035035 - 0.9968\n",
      "is NT significantly different than Kraken2?\n",
      "WilcoxonResult(statistic=0.0, pvalue=0.005062032126267864)\n",
      "is NR significantly different than Kraken2?\n",
      "WilcoxonResult(statistic=15.0, pvalue=0.1095109374886408)\n",
      "is NT significantly different than NR?\n",
      "WilcoxonResult(statistic=0.0, pvalue=0.017960477526078766)\n"
     ]
    },
    {
     "name": "stderr",
     "output_type": "stream",
     "text": [
      "/Users/katrina.kalantar/anaconda3/lib/python3.7/site-packages/scipy/stats/morestats.py:2778: UserWarning: Warning: sample size too small for normal approximation.\n",
      "  warnings.warn(\"Warning: sample size too small for normal approximation.\")\n"
     ]
    }
   ],
   "source": [
    "results_described = combined_results.describe()\n",
    "print(results_described)\n",
    "print(results_described.loc['50%']['IDseq NT'])\n",
    "print(\"IDseq NT, median = \" + str(results_described.loc['50%']['IDseq NT']) + \", IQR: \" + \n",
    "     str(results_described.loc['25%']['IDseq NT']) + \" - \" + \n",
    "      str(results_described.loc['75%']['IDseq NT']))\n",
    "\n",
    "print(\"IDseq NR, median = \" + str(results_described.loc['50%']['IDseq NR']) + \", IQR: \" + \n",
    "     str(results_described.loc['25%']['IDseq NR']) + \" - \" + \n",
    "      str(results_described.loc['75%']['IDseq NR']))\n",
    "\n",
    "print(\"Kraken2, median = \" + str(results_described.loc['50%']['Kraken2']) + \", IQR: \" + \n",
    "     str(results_described.loc['25%']['Kraken2']) + \" - \" + \n",
    "      str(results_described.loc['75%']['Kraken2']))\n",
    "\n",
    "import scipy\n",
    "from scipy import stats\n",
    "print(\"is NT significantly different than Kraken2?\")\n",
    "print(scipy.stats.wilcoxon(combined_results['IDseq NT'],combined_results['Kraken2']))\n",
    "\n",
    "print(\"is NR significantly different than Kraken2?\")\n",
    "print(scipy.stats.wilcoxon(combined_results['IDseq NR'],combined_results['Kraken2']))\n",
    "\n",
    "print(\"is NT significantly different than NR?\")\n",
    "print(scipy.stats.wilcoxon(combined_results['IDseq NR'],combined_results['IDseq NT']))\n",
    "\n"
   ]
  }
 ],
 "metadata": {
  "kernelspec": {
   "display_name": "Python 3",
   "language": "python",
   "name": "python3"
  },
  "language_info": {
   "codemirror_mode": {
    "name": "ipython",
    "version": 3
   },
   "file_extension": ".py",
   "mimetype": "text/x-python",
   "name": "python",
   "nbconvert_exporter": "python",
   "pygments_lexer": "ipython3",
   "version": "3.7.3"
  }
 },
 "nbformat": 4,
 "nbformat_minor": 2
}
