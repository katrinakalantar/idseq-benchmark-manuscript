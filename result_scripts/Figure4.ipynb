{
 "cells": [
  {
   "cell_type": "code",
   "execution_count": 4,
   "metadata": {},
   "outputs": [],
   "source": [
    "import pandas as pd\n",
    "import matplotlib.pyplot as plt\n",
    "import subprocess\n",
    "import json\n",
    "from collections import Counter\n",
    "\n",
    "%matplotlib inline"
   ]
  },
  {
   "cell_type": "code",
   "execution_count": 5,
   "metadata": {},
   "outputs": [],
   "source": [
    "# Specify the IDseq project and sample IDs as input for idseq-bench\n",
    "\n",
    "PROJECT = '593'\n",
    "VERSION = '3.13'\n",
    "\n",
    "SAMPLE_DICT = {\n",
    "    '27908':'HRC_100',\n",
    "    '27907':'HRC_099',\n",
    "    '27906':'HRC_095',\n",
    "    '27905':'HRC_090',\n",
    "    '27904':'HRC_085',\n",
    "    '27903':'HRC_080',\n",
    "    '27902':'HRC_075',\n",
    "    '27901':'HRC_070',\n",
    "    '27900':'HRC_065',\n",
    "    '27899':'HRC_060',\n",
    "    '27898':'HRC_055',\n",
    "    '27897':'HRC_050',\n",
    "    '27896':'HRC_045',\n",
    "    '27895':'HRC_040',\n",
    "    '27894':'HRC_035',\n",
    "    '27893':'HRC_030',\n",
    "    '27892':'HRC_025'    \n",
    "}"
   ]
  },
  {
   "cell_type": "markdown",
   "metadata": {},
   "source": [
    "### Calculate IDseq NT and NR recall"
   ]
  },
  {
   "cell_type": "code",
   "execution_count": 6,
   "metadata": {},
   "outputs": [
    {
     "name": "stdout",
     "output_type": "stream",
     "text": [
      "HRC_100\n",
      "HRC_099\n",
      "HRC_095\n",
      "HRC_090\n",
      "HRC_085\n",
      "HRC_080\n",
      "HRC_075\n",
      "HRC_070\n",
      "failed to gather metrics for sample: HRC_070\n",
      "HRC_065\n",
      "failed to gather metrics for sample: HRC_065\n",
      "HRC_060\n",
      "failed to gather metrics for sample: HRC_060\n",
      "HRC_055\n",
      "failed to gather metrics for sample: HRC_055\n",
      "HRC_050\n",
      "failed to gather metrics for sample: HRC_050\n",
      "HRC_045\n",
      "failed to gather metrics for sample: HRC_045\n",
      "HRC_040\n",
      "failed to gather metrics for sample: HRC_040\n",
      "HRC_035\n",
      "failed to gather metrics for sample: HRC_035\n",
      "HRC_030\n",
      "failed to gather metrics for sample: HRC_030\n",
      "HRC_025\n",
      "failed to gather metrics for sample: HRC_025\n"
     ]
    }
   ],
   "source": [
    "# Loop through all the samples and determine the recall via idseq-bench-score tool\n",
    "\n",
    "results = {}\n",
    "for sample_id in SAMPLE_DICT.keys():\n",
    "    \n",
    "    sample_name = SAMPLE_DICT[sample_id]\n",
    "    print(sample_name)\n",
    "    \n",
    "    results[sample_name] = {}\n",
    "    \n",
    "    # run idseq-bench-score for this sample\n",
    "    bench_result = subprocess.check_output(\"idseq-bench-score \"+ PROJECT + \" \" + sample_id + \" \" + VERSION, shell=True)\n",
    "    d = json.loads(''.join(bench_result.decode('utf-8').split('\\n')[6:]))\n",
    "    \n",
    "    try:\n",
    "        # get the Rhinovirus C (species and genus) recall values from idseq-bench-score json\n",
    "        results[sample_name]['NTspecies'] = d['per_rank']['species']['NT']['463676']['recall_per_read']['count']\n",
    "        results[sample_name]['NTgenus'] = d['per_rank']['genus']['NT']['12059']['recall_per_read']['count']\n",
    "        results[sample_name]['NRspecies'] = d['per_rank']['species']['NR']['463676']['recall_per_read']['count']\n",
    "        results[sample_name]['NRgenus'] = d['per_rank']['genus']['NR']['12059']['recall_per_read']['count']\n",
    "    except:\n",
    "        # if the sample does not have any reads mapping to Rhinovirus C, the metrics will not\n",
    "        # appear in the json result; skip these samples\n",
    "        print(\"failed to gather metrics for sample: \" + sample_name)\n",
    "        \n",
    "        "
   ]
  },
  {
   "cell_type": "code",
   "execution_count": 7,
   "metadata": {},
   "outputs": [
    {
     "data": {
      "text/plain": [
       "<matplotlib.axes._subplots.AxesSubplot at 0x7fd1316aa3c8>"
      ]
     },
     "execution_count": 7,
     "metadata": {},
     "output_type": "execute_result"
    },
    {
     "data": {
      "image/png": "[encoded data removed]",
      "text/plain": [
       "<Figure size 576x216 with 1 Axes>"
      ]
     },
     "metadata": {
      "needs_background": "light"
     },
     "output_type": "display_data"
    }
   ],
   "source": [
    "df = pd.DataFrame(results).transpose()\n",
    "df.fillna(0, inplace=True)\n",
    "df[['NTspecies','NRspecies']].plot(figsize=(8,3), alpha=.6)"
   ]
  },
  {
   "cell_type": "markdown",
   "metadata": {},
   "source": [
    "### Read Kraken2 results"
   ]
  },
  {
   "cell_type": "code",
   "execution_count": 8,
   "metadata": {},
   "outputs": [
    {
     "name": "stdout",
     "output_type": "stream",
     "text": [
      "HRC_100\n",
      "HRC_099\n",
      "HRC_095\n",
      "HRC_090\n",
      "HRC_085\n",
      "HRC_080\n",
      "HRC_075\n",
      "HRC_070\n",
      "HRC_065\n",
      "HRC_060\n",
      "HRC_055\n",
      "HRC_050\n",
      "HRC_045\n",
      "HRC_040\n",
      "HRC_035\n",
      "HRC_030\n",
      "HRC_025\n"
     ]
    }
   ],
   "source": [
    "kraken_results_folder = './data/kraken2/hrc_experiment/'\n",
    "\n",
    "kraken_dict = {}\n",
    "\n",
    "for sample_id in SAMPLE_DICT.keys():\n",
    "    \n",
    "    sample_name = SAMPLE_DICT[sample_id]\n",
    "    kraken_dict[sample_name] = {}\n",
    "    \n",
    "    print(sample_name)\n",
    "    kraken_res = kraken_results_folder + sample_name + '.kraken2.out'\n",
    "    this_result = pd.read_csv(kraken_res, sep = '\\t', header=None)\n",
    "    \n",
    "    kraken_dict[sample_name]['classified'] = 2*(Counter(this_result[0])['C'])\n",
    "    \n",
    "    correct = 2*Counter(this_result[2])[463676]\n",
    "    false_positives = (kraken_dict[sample_name]['classified'] - correct) #/ kraken_dict[sample_name]['classified']\n",
    "    \n",
    "    kraken_dict[sample_name]['recall'] = 2* (Counter(this_result[2])[463676] / kraken_dict[sample_name]['classified'])\n",
    "    kraken_dict[sample_name]['true_positive'] = 2*(Counter(this_result[2])[463676])\n",
    "    kraken_dict[sample_name]['false_positives'] = (false_positives)\n",
    "    "
   ]
  },
  {
   "cell_type": "code",
   "execution_count": 9,
   "metadata": {},
   "outputs": [
    {
     "data": {
      "text/html": [
       "<div>\n",
       "<style scoped>\n",
       "    .dataframe tbody tr th:only-of-type {\n",
       "        vertical-align: middle;\n",
       "    }\n",
       "\n",
       "    .dataframe tbody tr th {\n",
       "        vertical-align: top;\n",
       "    }\n",
       "\n",
       "    .dataframe thead th {\n",
       "        text-align: right;\n",
       "    }\n",
       "</style>\n",
       "<table border=\"1\" class=\"dataframe\">\n",
       "  <thead>\n",
       "    <tr style=\"text-align: right;\">\n",
       "      <th></th>\n",
       "      <th>NRgenus</th>\n",
       "      <th>NRspecies</th>\n",
       "      <th>NTgenus</th>\n",
       "      <th>NTspecies</th>\n",
       "      <th>classified</th>\n",
       "      <th>false_positives</th>\n",
       "      <th>recall</th>\n",
       "      <th>true_positive</th>\n",
       "    </tr>\n",
       "  </thead>\n",
       "  <tbody>\n",
       "    <tr>\n",
       "      <th>HRC_100</th>\n",
       "      <td>8582.0</td>\n",
       "      <td>8582.0</td>\n",
       "      <td>8582.0</td>\n",
       "      <td>8582.0</td>\n",
       "      <td>10000.0</td>\n",
       "      <td>36.0</td>\n",
       "      <td>0.996400</td>\n",
       "      <td>9964.0</td>\n",
       "    </tr>\n",
       "    <tr>\n",
       "      <th>HRC_099</th>\n",
       "      <td>8562.0</td>\n",
       "      <td>8562.0</td>\n",
       "      <td>8562.0</td>\n",
       "      <td>8562.0</td>\n",
       "      <td>10000.0</td>\n",
       "      <td>50.0</td>\n",
       "      <td>0.995000</td>\n",
       "      <td>9950.0</td>\n",
       "    </tr>\n",
       "    <tr>\n",
       "      <th>HRC_095</th>\n",
       "      <td>8514.0</td>\n",
       "      <td>8514.0</td>\n",
       "      <td>8514.0</td>\n",
       "      <td>8514.0</td>\n",
       "      <td>9990.0</td>\n",
       "      <td>580.0</td>\n",
       "      <td>0.941942</td>\n",
       "      <td>9410.0</td>\n",
       "    </tr>\n",
       "    <tr>\n",
       "      <th>HRC_090</th>\n",
       "      <td>8480.0</td>\n",
       "      <td>8480.0</td>\n",
       "      <td>8480.0</td>\n",
       "      <td>8480.0</td>\n",
       "      <td>9036.0</td>\n",
       "      <td>4278.0</td>\n",
       "      <td>0.526560</td>\n",
       "      <td>4758.0</td>\n",
       "    </tr>\n",
       "    <tr>\n",
       "      <th>HRC_085</th>\n",
       "      <td>8422.0</td>\n",
       "      <td>8422.0</td>\n",
       "      <td>8422.0</td>\n",
       "      <td>8422.0</td>\n",
       "      <td>4708.0</td>\n",
       "      <td>3530.0</td>\n",
       "      <td>0.250212</td>\n",
       "      <td>1178.0</td>\n",
       "    </tr>\n",
       "  </tbody>\n",
       "</table>\n",
       "</div>"
      ],
      "text/plain": [
       "         NRgenus  NRspecies  NTgenus  NTspecies  classified  false_positives  \\\n",
       "HRC_100   8582.0     8582.0   8582.0     8582.0     10000.0             36.0   \n",
       "HRC_099   8562.0     8562.0   8562.0     8562.0     10000.0             50.0   \n",
       "HRC_095   8514.0     8514.0   8514.0     8514.0      9990.0            580.0   \n",
       "HRC_090   8480.0     8480.0   8480.0     8480.0      9036.0           4278.0   \n",
       "HRC_085   8422.0     8422.0   8422.0     8422.0      4708.0           3530.0   \n",
       "\n",
       "           recall  true_positive  \n",
       "HRC_100  0.996400         9964.0  \n",
       "HRC_099  0.995000         9950.0  \n",
       "HRC_095  0.941942         9410.0  \n",
       "HRC_090  0.526560         4758.0  \n",
       "HRC_085  0.250212         1178.0  "
      ]
     },
     "execution_count": 9,
     "metadata": {},
     "output_type": "execute_result"
    }
   ],
   "source": [
    "df2 = pd.concat([df,pd.DataFrame(kraken_dict).transpose()],axis=1)\n",
    "df2.head()"
   ]
  },
  {
   "cell_type": "code",
   "execution_count": 10,
   "metadata": {
    "scrolled": true
   },
   "outputs": [
    {
     "data": {
      "image/png": "[encoded data removed]",
      "text/plain": [
       "<Figure size 864x288 with 1 Axes>"
      ]
     },
     "metadata": {
      "needs_background": "light"
     },
     "output_type": "display_data"
    }
   ],
   "source": [
    "\n",
    "df2.columns = ['IDseq NR Genus', 'IDseq NR Species', 'IDseq NT Genus', 'IDseq NT Species',\n",
    "               'Kraken Total Classified','Kraken False Positives','Kraken Recall','Kraken True Positives']\n",
    "df2[['IDseq NT Species','IDseq NR Species','Kraken True Positives','Kraken False Positives']].plot(style='.-', lw = 3, ms = 10,figsize=(12,4), alpha=.8, cmap='Accent')#color=['#068977','green','darkblue','orange'])\n",
    "plt.xlabel('Sample ID')\n",
    "plt.ylabel('Number of Reads')\n",
    "plt.savefig('../Figures/Figure 4.pdf')"
   ]
  },
  {
   "cell_type": "code",
   "execution_count": 46,
   "metadata": {},
   "outputs": [
    {
     "name": "stderr",
     "output_type": "stream",
     "text": [
      "/Users/katrina.kalantar/anaconda3/lib/python3.7/site-packages/ipykernel_launcher.py:9: SettingWithCopyWarning: \n",
      "A value is trying to be set on a copy of a slice from a DataFrame.\n",
      "Try using .loc[row_indexer,col_indexer] = value instead\n",
      "\n",
      "See the caveats in the documentation: http://pandas.pydata.org/pandas-docs/stable/indexing.html#indexing-view-versus-copy\n",
      "  if __name__ == '__main__':\n",
      "/Users/katrina.kalantar/anaconda3/lib/python3.7/site-packages/ipykernel_launcher.py:10: SettingWithCopyWarning: \n",
      "A value is trying to be set on a copy of a slice from a DataFrame.\n",
      "Try using .loc[row_indexer,col_indexer] = value instead\n",
      "\n",
      "See the caveats in the documentation: http://pandas.pydata.org/pandas-docs/stable/indexing.html#indexing-view-versus-copy\n",
      "  # Remove the CWD from sys.path while we load stuff.\n",
      "/Users/katrina.kalantar/anaconda3/lib/python3.7/site-packages/ipykernel_launcher.py:11: SettingWithCopyWarning: \n",
      "A value is trying to be set on a copy of a slice from a DataFrame.\n",
      "Try using .loc[row_indexer,col_indexer] = value instead\n",
      "\n",
      "See the caveats in the documentation: http://pandas.pydata.org/pandas-docs/stable/indexing.html#indexing-view-versus-copy\n",
      "  # This is added back by InteractiveShellApp.init_path()\n"
     ]
    },
    {
     "data": {
      "image/png": "[encoded data removed]",
      "text/plain": [
       "<Figure size 864x288 with 1 Axes>"
      ]
     },
     "metadata": {
      "needs_background": "light"
     },
     "output_type": "display_data"
    }
   ],
   "source": [
    "\n",
    "df2.columns = ['IDseq NR Genus', 'IDseq NR Species', 'IDseq NT Genus', 'IDseq NT Species',\n",
    "               'Kraken Total Classified','Kraken False Positives','Kraken Recall','Kraken True Positives']\n",
    "percentage_scaled_df = df2[['IDseq NT Species','IDseq NR Species','Kraken True Positives','Kraken False Positives']]\n",
    "\n",
    "# passed-filters (PF) values from IDseq pipeline QC steps\n",
    "pf_values = [8582,8562,8514,8480,8422,8544,8558,8504,8492,8496,8450,8430,8458,8466,8466,8478,8466]\n",
    "\n",
    "percentage_scaled_df['IDseq NT Species %'] = [list(df2['IDseq NT Species'])[i] / pf_values[i] for i in range(len(pf_values))]\n",
    "percentage_scaled_df['IDseq NR Species %'] = [list(df2['IDseq NR Species'])[i] / pf_values[i] for i in range(len(pf_values))]\n",
    "percentage_scaled_df['Kraken True Positives %'] = [list(df2['Kraken True Positives'])[i] / 10000 for i in range(len(pf_values))]\n",
    "percentage_scaled_df['Kraken False Positives %'] = [list(df2['Kraken False Positives'])[i] / 10000 for i in range(len(pf_values))]\n",
    "\n",
    "\n",
    "percentage_scaled_df = percentage_scaled_df[['IDseq NT Species %', 'IDseq NR Species %', 'Kraken True Positives %', 'Kraken False Positives %']]\n",
    "\n",
    "percentage_scaled_df.plot(style='.-', lw = 3, ms = 10,figsize=(12,4), alpha=.8, cmap='Accent')#color=['#068977','green','darkblue','orange'])\n",
    "plt.xlabel('Sample ID')\n",
    "plt.ylabel('Percentage of Reads')\n",
    "plt.savefig('../Figures/Figure4_v3.pdf')"
   ]
  },
  {
   "cell_type": "code",
   "execution_count": 148,
   "metadata": {},
   "outputs": [
    {
     "data": {
      "text/html": [
       "<div>\n",
       "<style scoped>\n",
       "    .dataframe tbody tr th:only-of-type {\n",
       "        vertical-align: middle;\n",
       "    }\n",
       "\n",
       "    .dataframe tbody tr th {\n",
       "        vertical-align: top;\n",
       "    }\n",
       "\n",
       "    .dataframe thead th {\n",
       "        text-align: right;\n",
       "    }\n",
       "</style>\n",
       "<table border=\"1\" class=\"dataframe\">\n",
       "  <thead>\n",
       "    <tr style=\"text-align: right;\">\n",
       "      <th></th>\n",
       "      <th>IDseq NR Genus</th>\n",
       "      <th>IDseq NR Species</th>\n",
       "      <th>IDseq NT Genus</th>\n",
       "      <th>IDseq NT Species</th>\n",
       "      <th>Kraken Total Classified</th>\n",
       "      <th>Kraken False Positives</th>\n",
       "      <th>Kraken Recall</th>\n",
       "      <th>Kraken True Positives</th>\n",
       "    </tr>\n",
       "  </thead>\n",
       "  <tbody>\n",
       "    <tr>\n",
       "      <th>HRC_100</th>\n",
       "      <td>8582.0</td>\n",
       "      <td>8582.0</td>\n",
       "      <td>8582.0</td>\n",
       "      <td>8582.0</td>\n",
       "      <td>10000.0</td>\n",
       "      <td>36.0</td>\n",
       "      <td>0.996400</td>\n",
       "      <td>9964.0</td>\n",
       "    </tr>\n",
       "    <tr>\n",
       "      <th>HRC_099</th>\n",
       "      <td>8562.0</td>\n",
       "      <td>8562.0</td>\n",
       "      <td>8562.0</td>\n",
       "      <td>8562.0</td>\n",
       "      <td>10000.0</td>\n",
       "      <td>50.0</td>\n",
       "      <td>0.995000</td>\n",
       "      <td>9950.0</td>\n",
       "    </tr>\n",
       "    <tr>\n",
       "      <th>HRC_095</th>\n",
       "      <td>8514.0</td>\n",
       "      <td>8514.0</td>\n",
       "      <td>8514.0</td>\n",
       "      <td>8514.0</td>\n",
       "      <td>9990.0</td>\n",
       "      <td>580.0</td>\n",
       "      <td>0.941942</td>\n",
       "      <td>9410.0</td>\n",
       "    </tr>\n",
       "    <tr>\n",
       "      <th>HRC_090</th>\n",
       "      <td>8480.0</td>\n",
       "      <td>8480.0</td>\n",
       "      <td>8480.0</td>\n",
       "      <td>8480.0</td>\n",
       "      <td>9036.0</td>\n",
       "      <td>4278.0</td>\n",
       "      <td>0.526560</td>\n",
       "      <td>4758.0</td>\n",
       "    </tr>\n",
       "    <tr>\n",
       "      <th>HRC_085</th>\n",
       "      <td>8422.0</td>\n",
       "      <td>8422.0</td>\n",
       "      <td>8422.0</td>\n",
       "      <td>8422.0</td>\n",
       "      <td>4708.0</td>\n",
       "      <td>3530.0</td>\n",
       "      <td>0.250212</td>\n",
       "      <td>1178.0</td>\n",
       "    </tr>\n",
       "    <tr>\n",
       "      <th>HRC_080</th>\n",
       "      <td>8544.0</td>\n",
       "      <td>8544.0</td>\n",
       "      <td>8544.0</td>\n",
       "      <td>8544.0</td>\n",
       "      <td>3672.0</td>\n",
       "      <td>2630.0</td>\n",
       "      <td>0.283769</td>\n",
       "      <td>1042.0</td>\n",
       "    </tr>\n",
       "    <tr>\n",
       "      <th>HRC_075</th>\n",
       "      <td>8558.0</td>\n",
       "      <td>8558.0</td>\n",
       "      <td>291.0</td>\n",
       "      <td>225.0</td>\n",
       "      <td>2678.0</td>\n",
       "      <td>2348.0</td>\n",
       "      <td>0.123226</td>\n",
       "      <td>330.0</td>\n",
       "    </tr>\n",
       "    <tr>\n",
       "      <th>HRC_070</th>\n",
       "      <td>0.0</td>\n",
       "      <td>0.0</td>\n",
       "      <td>0.0</td>\n",
       "      <td>0.0</td>\n",
       "      <td>2722.0</td>\n",
       "      <td>2722.0</td>\n",
       "      <td>0.000000</td>\n",
       "      <td>0.0</td>\n",
       "    </tr>\n",
       "    <tr>\n",
       "      <th>HRC_065</th>\n",
       "      <td>0.0</td>\n",
       "      <td>0.0</td>\n",
       "      <td>0.0</td>\n",
       "      <td>0.0</td>\n",
       "      <td>2090.0</td>\n",
       "      <td>2090.0</td>\n",
       "      <td>0.000000</td>\n",
       "      <td>0.0</td>\n",
       "    </tr>\n",
       "    <tr>\n",
       "      <th>HRC_060</th>\n",
       "      <td>0.0</td>\n",
       "      <td>0.0</td>\n",
       "      <td>0.0</td>\n",
       "      <td>0.0</td>\n",
       "      <td>1024.0</td>\n",
       "      <td>1024.0</td>\n",
       "      <td>0.000000</td>\n",
       "      <td>0.0</td>\n",
       "    </tr>\n",
       "  </tbody>\n",
       "</table>\n",
       "</div>"
      ],
      "text/plain": [
       "         IDseq NR Genus  IDseq NR Species  IDseq NT Genus  IDseq NT Species  \\\n",
       "HRC_100          8582.0            8582.0          8582.0            8582.0   \n",
       "HRC_099          8562.0            8562.0          8562.0            8562.0   \n",
       "HRC_095          8514.0            8514.0          8514.0            8514.0   \n",
       "HRC_090          8480.0            8480.0          8480.0            8480.0   \n",
       "HRC_085          8422.0            8422.0          8422.0            8422.0   \n",
       "HRC_080          8544.0            8544.0          8544.0            8544.0   \n",
       "HRC_075          8558.0            8558.0           291.0             225.0   \n",
       "HRC_070             0.0               0.0             0.0               0.0   \n",
       "HRC_065             0.0               0.0             0.0               0.0   \n",
       "HRC_060             0.0               0.0             0.0               0.0   \n",
       "\n",
       "         Kraken Total Classified  Kraken False Positives  Kraken Recall  \\\n",
       "HRC_100                  10000.0                    36.0       0.996400   \n",
       "HRC_099                  10000.0                    50.0       0.995000   \n",
       "HRC_095                   9990.0                   580.0       0.941942   \n",
       "HRC_090                   9036.0                  4278.0       0.526560   \n",
       "HRC_085                   4708.0                  3530.0       0.250212   \n",
       "HRC_080                   3672.0                  2630.0       0.283769   \n",
       "HRC_075                   2678.0                  2348.0       0.123226   \n",
       "HRC_070                   2722.0                  2722.0       0.000000   \n",
       "HRC_065                   2090.0                  2090.0       0.000000   \n",
       "HRC_060                   1024.0                  1024.0       0.000000   \n",
       "\n",
       "         Kraken True Positives  \n",
       "HRC_100                 9964.0  \n",
       "HRC_099                 9950.0  \n",
       "HRC_095                 9410.0  \n",
       "HRC_090                 4758.0  \n",
       "HRC_085                 1178.0  \n",
       "HRC_080                 1042.0  \n",
       "HRC_075                  330.0  \n",
       "HRC_070                    0.0  \n",
       "HRC_065                    0.0  \n",
       "HRC_060                    0.0  "
      ]
     },
     "execution_count": 148,
     "metadata": {},
     "output_type": "execute_result"
    }
   ],
   "source": [
    "df2.head(10)"
   ]
  },
  {
   "cell_type": "code",
   "execution_count": null,
   "metadata": {},
   "outputs": [],
   "source": []
  }
 ],
 "metadata": {
  "kernelspec": {
   "display_name": "Python 3",
   "language": "python",
   "name": "python3"
  },
  "language_info": {
   "codemirror_mode": {
    "name": "ipython",
    "version": 3
   },
   "file_extension": ".py",
   "mimetype": "text/x-python",
   "name": "python",
   "nbconvert_exporter": "python",
   "pygments_lexer": "ipython3",
   "version": "3.7.3"
  }
 },
 "nbformat": 4,
 "nbformat_minor": 2
}
